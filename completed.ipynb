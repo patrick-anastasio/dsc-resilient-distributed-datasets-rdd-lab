{
  "cells": [
    {
      "cell_type": "markdown",
      "metadata": {
        "id": "view-in-github",
        "colab_type": "text"
      },
      "source": [
        "<a href=\"https://colab.research.google.com/github/patrick-anastasio/dsc-resilient-distributed-datasets-rdd-lab/blob/master/completed.ipynb\" target=\"_parent\"><img src=\"https://colab.research.google.com/assets/colab-badge.svg\" alt=\"Open In Colab\"/></a>"
      ]
    },
    {
      "cell_type": "markdown",
      "metadata": {
        "id": "55Ap6iaJQ3Q_"
      },
      "source": [
        "## Resilient Distributed Datasets (RDDs) - Lab\n",
        "\n",
        "Resilient Distributed Datasets (RDD) are fundamental data structures of Spark. An RDD is essentially the Spark representation of a set of data, spread across multiple machines, with APIs to let you act on it. An RDD can come from any data source, e.g. text files, a database, a JSON file, etc.\n",
        "\n",
        "\n",
        "## Objectives\n",
        "\n",
        "You will be able to:\n",
        "\n",
        "- Apply the map(func) transformation to a given function on all elements of an RDD in different partitions \n",
        "- Apply a map transformation for all elements of an RDD \n",
        "- Compare the difference between a transformation and an action within RDDs \n",
        "- Use collect(), count(), and take() actions to trigger spark transformations  \n",
        "- Use filter to select data that meets certain specifications within an RDD \n",
        "- Set number of partitions for parallelizing RDDs \n",
        "- Create RDDs from Python collections \n"
      ]
    },
    {
      "cell_type": "markdown",
      "metadata": {
        "id": "0fp8EdIgQ3RD"
      },
      "source": [
        "## What are RDDs? \n",
        "\n",
        "To get a better understanding of RDDs, let's break down each one of the components of the acronym RDD:\n",
        "\n",
        "Resilient: RDDs are considered \"resilient\" because they have built-in fault tolerance. This means that even if one of the nodes goes offline, RDDs will be able to restore the data. This is already a huge advantage compared to standard storage. If a standard computer dies while performing an operation, all of its memory will be lost in the process. With RDDs, multiple nodes can go offline, and the action will still be held in working memory.\n",
        "\n",
        "Distributed: The data is contained on multiple nodes of a cluster-computing operation. It is efficiently partitioned to allow for parallelism.\n",
        "\n",
        "Dataset: The dataset has been * partitioned * across the multiple nodes. \n",
        "\n",
        "RDDs are the building block upon which more high-level Spark operations are based upon. Chances are, if you are performing an action using Spark, the operation involves RDDs. \n",
        "\n",
        "\n",
        "\n",
        "Key Characteristics of RDDs:\n",
        "\n",
        "- Immutable: Once an RDD is created, it cannot be modified. \n",
        "- Lazily Evaluated: RDDs will not be evaluated until an action is triggered. Essentially, when RDDs are created, they are programmed to perform some action, but that function will not get activated until it is explicitly called. The reason for lazy evaluation is that allows users to organize the actions of their Spark program into smaller actions. It also saves unnecessary computation and memory load.\n",
        "- In-Memory: The operations in Spark are performed in-memory rather than in the database. This is what allows Spark to perform fast operations with very large quantities of data.\n",
        "\n",
        "\n"
      ]
    },
    {
      "cell_type": "markdown",
      "metadata": {
        "id": "VmDaHkV8Q3RE"
      },
      "source": [
        "### RDD Transformations vs Actions\n",
        "\n",
        "In Spark, we first create a __base RDD__ and then apply one or more transformations to that base RDD following our processing needs. Being immutable means, **once an RDD is created, it cannot be changed**. As a result, **each transformation of an RDD creates a new RDD**. Finally, we can apply one or more **actions** to the RDDs. Spark uses lazy evaluation, so transformations are not actually executed until an action occurs.\n",
        "\n",
        "\n",
        "<img src=\"https://github.com/patrick-anastasio/dsc-resilient-distributed-datasets-rdd-lab/blob/master/images/rdd_diagram.png?raw=1\" width=500>"
      ]
    },
    {
      "cell_type": "markdown",
      "metadata": {
        "id": "uKtU8NUiQ3RE"
      },
      "source": [
        "### Transformations\n",
        "\n",
        "Transformations create a new dataset from an existing one by passing each dataset element through a function and returning a new RDD representing the results. In short, creating an RDD from an existing RDD is ‘transformation’.\n",
        "All transformations in Spark are lazy. They do not compute their results right away. Instead, they just remember the transformations applied to some base dataset (e.g. a file). The transformations are only computed when an action requires a result that needs to be returned to the driver program.\n",
        "A transformation is an RDD that returns another RDD, like map, flatMap, filter, reduceByKey, join, cogroup, etc.\n",
        "\n",
        "### Actions\n",
        "Actions return final results of RDD computations. Actions trigger execution using lineage graph to load the data into original RDD and carry out all intermediate transformations and return the final results to the driver program or writes it out to the file system. An action returns a value (to a Spark driver - the user program).\n",
        "\n",
        "Here are some key transformations and actions that we will explore.\n",
        "\n",
        "\n",
        "| Transformations   | Actions       |\n",
        "|-------------------|---------------|\n",
        "| map(func)         | reduce(func)  |\n",
        "| filter(func)      | collect()     |\n",
        "| groupByKey()      | count()       |\n",
        "| reduceByKey(func) | first()       |\n",
        "| mapValues(func)   | take()        |\n",
        "| sample()          | countByKey()  |\n",
        "| distinct()        | foreach(func) |\n",
        "| sortByKey()       |               |\n"
      ]
    },
    {
      "cell_type": "markdown",
      "metadata": {
        "id": "fjAi4R2aQ3RF"
      },
      "source": [
        "Let's see how transformations and actions work through a simple example. In this example, we will perform several actions and transformations on RDDs in order to obtain a better understanding of Spark processing. \n",
        "\n",
        "### Create a Python collection \n",
        "\n",
        "We need some data to start experimenting with RDDs. Let's create some sample data and see how RDDs handle it. To practice working with RDDs, we're going to use a simple Python list.\n",
        "\n",
        "- Create a Python list `data` of integers between 1 and 1000 using the `range()` function. \n",
        "- Sanity check: confirm the length of the list (it should be 1000)"
      ]
    },
    {
      "cell_type": "code",
      "execution_count": 1,
      "metadata": {
        "colab": {
          "base_uri": "https://localhost:8080/"
        },
        "id": "rRygyfbtQ3RG",
        "outputId": "dad5ed97-2fbc-42ca-e148-ea3b604ff774"
      },
      "outputs": [
        {
          "output_type": "execute_result",
          "data": {
            "text/plain": [
              "1000"
            ]
          },
          "metadata": {},
          "execution_count": 1
        }
      ],
      "source": [
        "data = range(1, 1001)\n",
        "len(data)\n",
        "\n",
        "# 1000"
      ]
    },
    {
      "cell_type": "markdown",
      "metadata": {
        "id": "RKZq87a6Q3RH"
      },
      "source": [
        "### Initialize an RDD\n",
        "\n",
        "When using Spark to make computations, datasets are treated as lists of entries. Those lists are split into different partitions across different cores or different computers. Each list of data held in memory is a partition of the RDD. The reason why Spark is able to make computations far faster than other big data processing languages is that it allows all data to be stored __in-memory__, which allows for easy access to the data and, in turn, high-speed processing. Here is an example of how the alphabet might be split into different RDDs and held across a distributed collection of nodes:\n",
        "\n",
        "<img src =\"./images/partitions_1.png\" width =\"500\">  \n",
        "To initialize an RDD, first import `pyspark` and then create a SparkContext assigned to the variable `sc`. Use `'local[*]'` as the master."
      ]
    },
    {
      "cell_type": "code",
      "source": [
        "pip install pyspark"
      ],
      "metadata": {
        "colab": {
          "base_uri": "https://localhost:8080/"
        },
        "id": "NGZt2cUDRHpf",
        "outputId": "f8ab0537-0d52-49ef-a845-c311717ac901"
      },
      "execution_count": 3,
      "outputs": [
        {
          "output_type": "stream",
          "name": "stdout",
          "text": [
            "Collecting pyspark\n",
            "  Downloading pyspark-3.2.1.tar.gz (281.4 MB)\n",
            "\u001b[K     |████████████████████████████████| 281.4 MB 35 kB/s \n",
            "\u001b[?25hCollecting py4j==0.10.9.3\n",
            "  Downloading py4j-0.10.9.3-py2.py3-none-any.whl (198 kB)\n",
            "\u001b[K     |████████████████████████████████| 198 kB 55.3 MB/s \n",
            "\u001b[?25hBuilding wheels for collected packages: pyspark\n",
            "  Building wheel for pyspark (setup.py) ... \u001b[?25l\u001b[?25hdone\n",
            "  Created wheel for pyspark: filename=pyspark-3.2.1-py2.py3-none-any.whl size=281853642 sha256=1c24dd11d3d994c3d0819af621d02da7f2117d7a1ecf9b9ad62ad9a09338bc4f\n",
            "  Stored in directory: /root/.cache/pip/wheels/9f/f5/07/7cd8017084dce4e93e84e92efd1e1d5334db05f2e83bcef74f\n",
            "Successfully built pyspark\n",
            "Installing collected packages: py4j, pyspark\n",
            "Successfully installed py4j-0.10.9.3 pyspark-3.2.1\n"
          ]
        }
      ]
    },
    {
      "cell_type": "code",
      "execution_count": 4,
      "metadata": {
        "id": "lMqm_lLwQ3RH"
      },
      "outputs": [],
      "source": [
        "import pyspark\n",
        "sc = pyspark.SparkContext('local[*]')"
      ]
    },
    {
      "cell_type": "markdown",
      "metadata": {
        "id": "VxbkZYF_Q3RH"
      },
      "source": [
        "Once you've created the SparkContext, you can use the `.parallelize()` method to create an RDD that will distribute the list of numbers across multiple cores. Here, create one called `rdd` with 10 partitions using `data` as the collection you are parallelizing."
      ]
    },
    {
      "cell_type": "code",
      "execution_count": 6,
      "metadata": {
        "colab": {
          "base_uri": "https://localhost:8080/"
        },
        "id": "85a9H5z7Q3RI",
        "outputId": "6a845a82-a91d-4512-b223-ab7d8daa213a"
      },
      "outputs": [
        {
          "output_type": "stream",
          "name": "stdout",
          "text": [
            "<class 'pyspark.rdd.PipelinedRDD'>\n"
          ]
        }
      ],
      "source": [
        "rdd = sc.parallelize(data, 10)\n",
        "print(type(rdd))\n",
        "# <class 'pyspark.rdd.RDD'>"
      ]
    },
    {
      "cell_type": "markdown",
      "metadata": {
        "id": "gqTtw-B_Q3RI"
      },
      "source": [
        "Determine how many partitions are being used with this RDD with the `.getNumPartitions()` method."
      ]
    },
    {
      "cell_type": "code",
      "execution_count": 7,
      "metadata": {
        "colab": {
          "base_uri": "https://localhost:8080/"
        },
        "id": "XxWvC72bQ3RI",
        "outputId": "81b21a77-a59d-479b-9384-71f1b3b826bb"
      },
      "outputs": [
        {
          "output_type": "execute_result",
          "data": {
            "text/plain": [
              "10"
            ]
          },
          "metadata": {},
          "execution_count": 7
        }
      ],
      "source": [
        "rdd.getNumPartitions()\n",
        "# 10"
      ]
    },
    {
      "cell_type": "markdown",
      "metadata": {
        "id": "zR9Dsb7CQ3RJ"
      },
      "source": [
        "### Basic descriptive RDD actions\n",
        "\n",
        "Let's perform some basic operations on our RDD. In the cell below, use the methods:\n",
        "* `count`: returns the total count of items in the RDD \n",
        "* `first`: returns the first item in the RDD\n",
        "* `take`: returns the first `n` items in the RDD\n",
        "* `top`: returns the top `n` items\n",
        "* `collect`: returns everything from your RDD\n",
        "\n",
        "\n",
        "It's important to note that in a big data context, calling the collect method will often take a very long time to execute and should be handled with care!"
      ]
    },
    {
      "cell_type": "code",
      "execution_count": 8,
      "metadata": {
        "scrolled": true,
        "colab": {
          "base_uri": "https://localhost:8080/"
        },
        "id": "5jN6u9ENQ3RJ",
        "outputId": "aabac144-5abe-4564-9b02-eaf6e1f63599"
      },
      "outputs": [
        {
          "output_type": "execute_result",
          "data": {
            "text/plain": [
              "1000"
            ]
          },
          "metadata": {},
          "execution_count": 8
        }
      ],
      "source": [
        "# count\n",
        "rdd.count()"
      ]
    },
    {
      "cell_type": "code",
      "execution_count": 9,
      "metadata": {
        "colab": {
          "base_uri": "https://localhost:8080/"
        },
        "id": "ryLYUSh1Q3RJ",
        "outputId": "ff98724e-f13e-4925-9341-7bc634bbc0ec"
      },
      "outputs": [
        {
          "output_type": "execute_result",
          "data": {
            "text/plain": [
              "1"
            ]
          },
          "metadata": {},
          "execution_count": 9
        }
      ],
      "source": [
        "# first\n",
        "rdd.first()"
      ]
    },
    {
      "cell_type": "code",
      "execution_count": 10,
      "metadata": {
        "colab": {
          "base_uri": "https://localhost:8080/"
        },
        "id": "e1GDuNbbQ3RK",
        "outputId": "b23753d5-7f8c-4b05-8c92-b39a71b539b2"
      },
      "outputs": [
        {
          "output_type": "execute_result",
          "data": {
            "text/plain": [
              "[1, 2, 3, 4, 5]"
            ]
          },
          "metadata": {},
          "execution_count": 10
        }
      ],
      "source": [
        "# take\n",
        "rdd.take(5)"
      ]
    },
    {
      "cell_type": "code",
      "execution_count": 11,
      "metadata": {
        "colab": {
          "base_uri": "https://localhost:8080/"
        },
        "id": "5W4iaKBcQ3RK",
        "outputId": "1596964a-64d9-4b73-b6ee-83d348f6af03"
      },
      "outputs": [
        {
          "output_type": "execute_result",
          "data": {
            "text/plain": [
              "[1000, 999, 998, 997, 996]"
            ]
          },
          "metadata": {},
          "execution_count": 11
        }
      ],
      "source": [
        "# top\n",
        "rdd.top(5)"
      ]
    },
    {
      "cell_type": "code",
      "execution_count": 13,
      "metadata": {
        "scrolled": true,
        "colab": {
          "base_uri": "https://localhost:8080/"
        },
        "id": "HXdkLt7cQ3RK",
        "outputId": "c912365d-362c-4903-c1a9-73935134105d"
      },
      "outputs": [
        {
          "output_type": "execute_result",
          "data": {
            "text/plain": [
              "[1,\n",
              " 2,\n",
              " 3,\n",
              " 4,\n",
              " 5,\n",
              " 6,\n",
              " 7,\n",
              " 8,\n",
              " 9,\n",
              " 10,\n",
              " 11,\n",
              " 12,\n",
              " 13,\n",
              " 14,\n",
              " 15,\n",
              " 16,\n",
              " 17,\n",
              " 18,\n",
              " 19,\n",
              " 20,\n",
              " 21,\n",
              " 22,\n",
              " 23,\n",
              " 24,\n",
              " 25,\n",
              " 26,\n",
              " 27,\n",
              " 28,\n",
              " 29,\n",
              " 30,\n",
              " 31,\n",
              " 32,\n",
              " 33,\n",
              " 34,\n",
              " 35,\n",
              " 36,\n",
              " 37,\n",
              " 38,\n",
              " 39,\n",
              " 40,\n",
              " 41,\n",
              " 42,\n",
              " 43,\n",
              " 44,\n",
              " 45,\n",
              " 46,\n",
              " 47,\n",
              " 48,\n",
              " 49,\n",
              " 50,\n",
              " 51,\n",
              " 52,\n",
              " 53,\n",
              " 54,\n",
              " 55,\n",
              " 56,\n",
              " 57,\n",
              " 58,\n",
              " 59,\n",
              " 60,\n",
              " 61,\n",
              " 62,\n",
              " 63,\n",
              " 64,\n",
              " 65,\n",
              " 66,\n",
              " 67,\n",
              " 68,\n",
              " 69,\n",
              " 70,\n",
              " 71,\n",
              " 72,\n",
              " 73,\n",
              " 74,\n",
              " 75,\n",
              " 76,\n",
              " 77,\n",
              " 78,\n",
              " 79,\n",
              " 80,\n",
              " 81,\n",
              " 82,\n",
              " 83,\n",
              " 84,\n",
              " 85,\n",
              " 86,\n",
              " 87,\n",
              " 88,\n",
              " 89,\n",
              " 90,\n",
              " 91,\n",
              " 92,\n",
              " 93,\n",
              " 94,\n",
              " 95,\n",
              " 96,\n",
              " 97,\n",
              " 98,\n",
              " 99,\n",
              " 100,\n",
              " 101,\n",
              " 102,\n",
              " 103,\n",
              " 104,\n",
              " 105,\n",
              " 106,\n",
              " 107,\n",
              " 108,\n",
              " 109,\n",
              " 110,\n",
              " 111,\n",
              " 112,\n",
              " 113,\n",
              " 114,\n",
              " 115,\n",
              " 116,\n",
              " 117,\n",
              " 118,\n",
              " 119,\n",
              " 120,\n",
              " 121,\n",
              " 122,\n",
              " 123,\n",
              " 124,\n",
              " 125,\n",
              " 126,\n",
              " 127,\n",
              " 128,\n",
              " 129,\n",
              " 130,\n",
              " 131,\n",
              " 132,\n",
              " 133,\n",
              " 134,\n",
              " 135,\n",
              " 136,\n",
              " 137,\n",
              " 138,\n",
              " 139,\n",
              " 140,\n",
              " 141,\n",
              " 142,\n",
              " 143,\n",
              " 144,\n",
              " 145,\n",
              " 146,\n",
              " 147,\n",
              " 148,\n",
              " 149,\n",
              " 150,\n",
              " 151,\n",
              " 152,\n",
              " 153,\n",
              " 154,\n",
              " 155,\n",
              " 156,\n",
              " 157,\n",
              " 158,\n",
              " 159,\n",
              " 160,\n",
              " 161,\n",
              " 162,\n",
              " 163,\n",
              " 164,\n",
              " 165,\n",
              " 166,\n",
              " 167,\n",
              " 168,\n",
              " 169,\n",
              " 170,\n",
              " 171,\n",
              " 172,\n",
              " 173,\n",
              " 174,\n",
              " 175,\n",
              " 176,\n",
              " 177,\n",
              " 178,\n",
              " 179,\n",
              " 180,\n",
              " 181,\n",
              " 182,\n",
              " 183,\n",
              " 184,\n",
              " 185,\n",
              " 186,\n",
              " 187,\n",
              " 188,\n",
              " 189,\n",
              " 190,\n",
              " 191,\n",
              " 192,\n",
              " 193,\n",
              " 194,\n",
              " 195,\n",
              " 196,\n",
              " 197,\n",
              " 198,\n",
              " 199,\n",
              " 200,\n",
              " 201,\n",
              " 202,\n",
              " 203,\n",
              " 204,\n",
              " 205,\n",
              " 206,\n",
              " 207,\n",
              " 208,\n",
              " 209,\n",
              " 210,\n",
              " 211,\n",
              " 212,\n",
              " 213,\n",
              " 214,\n",
              " 215,\n",
              " 216,\n",
              " 217,\n",
              " 218,\n",
              " 219,\n",
              " 220,\n",
              " 221,\n",
              " 222,\n",
              " 223,\n",
              " 224,\n",
              " 225,\n",
              " 226,\n",
              " 227,\n",
              " 228,\n",
              " 229,\n",
              " 230,\n",
              " 231,\n",
              " 232,\n",
              " 233,\n",
              " 234,\n",
              " 235,\n",
              " 236,\n",
              " 237,\n",
              " 238,\n",
              " 239,\n",
              " 240,\n",
              " 241,\n",
              " 242,\n",
              " 243,\n",
              " 244,\n",
              " 245,\n",
              " 246,\n",
              " 247,\n",
              " 248,\n",
              " 249,\n",
              " 250,\n",
              " 251,\n",
              " 252,\n",
              " 253,\n",
              " 254,\n",
              " 255,\n",
              " 256,\n",
              " 257,\n",
              " 258,\n",
              " 259,\n",
              " 260,\n",
              " 261,\n",
              " 262,\n",
              " 263,\n",
              " 264,\n",
              " 265,\n",
              " 266,\n",
              " 267,\n",
              " 268,\n",
              " 269,\n",
              " 270,\n",
              " 271,\n",
              " 272,\n",
              " 273,\n",
              " 274,\n",
              " 275,\n",
              " 276,\n",
              " 277,\n",
              " 278,\n",
              " 279,\n",
              " 280,\n",
              " 281,\n",
              " 282,\n",
              " 283,\n",
              " 284,\n",
              " 285,\n",
              " 286,\n",
              " 287,\n",
              " 288,\n",
              " 289,\n",
              " 290,\n",
              " 291,\n",
              " 292,\n",
              " 293,\n",
              " 294,\n",
              " 295,\n",
              " 296,\n",
              " 297,\n",
              " 298,\n",
              " 299,\n",
              " 300,\n",
              " 301,\n",
              " 302,\n",
              " 303,\n",
              " 304,\n",
              " 305,\n",
              " 306,\n",
              " 307,\n",
              " 308,\n",
              " 309,\n",
              " 310,\n",
              " 311,\n",
              " 312,\n",
              " 313,\n",
              " 314,\n",
              " 315,\n",
              " 316,\n",
              " 317,\n",
              " 318,\n",
              " 319,\n",
              " 320,\n",
              " 321,\n",
              " 322,\n",
              " 323,\n",
              " 324,\n",
              " 325,\n",
              " 326,\n",
              " 327,\n",
              " 328,\n",
              " 329,\n",
              " 330,\n",
              " 331,\n",
              " 332,\n",
              " 333,\n",
              " 334,\n",
              " 335,\n",
              " 336,\n",
              " 337,\n",
              " 338,\n",
              " 339,\n",
              " 340,\n",
              " 341,\n",
              " 342,\n",
              " 343,\n",
              " 344,\n",
              " 345,\n",
              " 346,\n",
              " 347,\n",
              " 348,\n",
              " 349,\n",
              " 350,\n",
              " 351,\n",
              " 352,\n",
              " 353,\n",
              " 354,\n",
              " 355,\n",
              " 356,\n",
              " 357,\n",
              " 358,\n",
              " 359,\n",
              " 360,\n",
              " 361,\n",
              " 362,\n",
              " 363,\n",
              " 364,\n",
              " 365,\n",
              " 366,\n",
              " 367,\n",
              " 368,\n",
              " 369,\n",
              " 370,\n",
              " 371,\n",
              " 372,\n",
              " 373,\n",
              " 374,\n",
              " 375,\n",
              " 376,\n",
              " 377,\n",
              " 378,\n",
              " 379,\n",
              " 380,\n",
              " 381,\n",
              " 382,\n",
              " 383,\n",
              " 384,\n",
              " 385,\n",
              " 386,\n",
              " 387,\n",
              " 388,\n",
              " 389,\n",
              " 390,\n",
              " 391,\n",
              " 392,\n",
              " 393,\n",
              " 394,\n",
              " 395,\n",
              " 396,\n",
              " 397,\n",
              " 398,\n",
              " 399,\n",
              " 400,\n",
              " 401,\n",
              " 402,\n",
              " 403,\n",
              " 404,\n",
              " 405,\n",
              " 406,\n",
              " 407,\n",
              " 408,\n",
              " 409,\n",
              " 410,\n",
              " 411,\n",
              " 412,\n",
              " 413,\n",
              " 414,\n",
              " 415,\n",
              " 416,\n",
              " 417,\n",
              " 418,\n",
              " 419,\n",
              " 420,\n",
              " 421,\n",
              " 422,\n",
              " 423,\n",
              " 424,\n",
              " 425,\n",
              " 426,\n",
              " 427,\n",
              " 428,\n",
              " 429,\n",
              " 430,\n",
              " 431,\n",
              " 432,\n",
              " 433,\n",
              " 434,\n",
              " 435,\n",
              " 436,\n",
              " 437,\n",
              " 438,\n",
              " 439,\n",
              " 440,\n",
              " 441,\n",
              " 442,\n",
              " 443,\n",
              " 444,\n",
              " 445,\n",
              " 446,\n",
              " 447,\n",
              " 448,\n",
              " 449,\n",
              " 450,\n",
              " 451,\n",
              " 452,\n",
              " 453,\n",
              " 454,\n",
              " 455,\n",
              " 456,\n",
              " 457,\n",
              " 458,\n",
              " 459,\n",
              " 460,\n",
              " 461,\n",
              " 462,\n",
              " 463,\n",
              " 464,\n",
              " 465,\n",
              " 466,\n",
              " 467,\n",
              " 468,\n",
              " 469,\n",
              " 470,\n",
              " 471,\n",
              " 472,\n",
              " 473,\n",
              " 474,\n",
              " 475,\n",
              " 476,\n",
              " 477,\n",
              " 478,\n",
              " 479,\n",
              " 480,\n",
              " 481,\n",
              " 482,\n",
              " 483,\n",
              " 484,\n",
              " 485,\n",
              " 486,\n",
              " 487,\n",
              " 488,\n",
              " 489,\n",
              " 490,\n",
              " 491,\n",
              " 492,\n",
              " 493,\n",
              " 494,\n",
              " 495,\n",
              " 496,\n",
              " 497,\n",
              " 498,\n",
              " 499,\n",
              " 500,\n",
              " 501,\n",
              " 502,\n",
              " 503,\n",
              " 504,\n",
              " 505,\n",
              " 506,\n",
              " 507,\n",
              " 508,\n",
              " 509,\n",
              " 510,\n",
              " 511,\n",
              " 512,\n",
              " 513,\n",
              " 514,\n",
              " 515,\n",
              " 516,\n",
              " 517,\n",
              " 518,\n",
              " 519,\n",
              " 520,\n",
              " 521,\n",
              " 522,\n",
              " 523,\n",
              " 524,\n",
              " 525,\n",
              " 526,\n",
              " 527,\n",
              " 528,\n",
              " 529,\n",
              " 530,\n",
              " 531,\n",
              " 532,\n",
              " 533,\n",
              " 534,\n",
              " 535,\n",
              " 536,\n",
              " 537,\n",
              " 538,\n",
              " 539,\n",
              " 540,\n",
              " 541,\n",
              " 542,\n",
              " 543,\n",
              " 544,\n",
              " 545,\n",
              " 546,\n",
              " 547,\n",
              " 548,\n",
              " 549,\n",
              " 550,\n",
              " 551,\n",
              " 552,\n",
              " 553,\n",
              " 554,\n",
              " 555,\n",
              " 556,\n",
              " 557,\n",
              " 558,\n",
              " 559,\n",
              " 560,\n",
              " 561,\n",
              " 562,\n",
              " 563,\n",
              " 564,\n",
              " 565,\n",
              " 566,\n",
              " 567,\n",
              " 568,\n",
              " 569,\n",
              " 570,\n",
              " 571,\n",
              " 572,\n",
              " 573,\n",
              " 574,\n",
              " 575,\n",
              " 576,\n",
              " 577,\n",
              " 578,\n",
              " 579,\n",
              " 580,\n",
              " 581,\n",
              " 582,\n",
              " 583,\n",
              " 584,\n",
              " 585,\n",
              " 586,\n",
              " 587,\n",
              " 588,\n",
              " 589,\n",
              " 590,\n",
              " 591,\n",
              " 592,\n",
              " 593,\n",
              " 594,\n",
              " 595,\n",
              " 596,\n",
              " 597,\n",
              " 598,\n",
              " 599,\n",
              " 600,\n",
              " 601,\n",
              " 602,\n",
              " 603,\n",
              " 604,\n",
              " 605,\n",
              " 606,\n",
              " 607,\n",
              " 608,\n",
              " 609,\n",
              " 610,\n",
              " 611,\n",
              " 612,\n",
              " 613,\n",
              " 614,\n",
              " 615,\n",
              " 616,\n",
              " 617,\n",
              " 618,\n",
              " 619,\n",
              " 620,\n",
              " 621,\n",
              " 622,\n",
              " 623,\n",
              " 624,\n",
              " 625,\n",
              " 626,\n",
              " 627,\n",
              " 628,\n",
              " 629,\n",
              " 630,\n",
              " 631,\n",
              " 632,\n",
              " 633,\n",
              " 634,\n",
              " 635,\n",
              " 636,\n",
              " 637,\n",
              " 638,\n",
              " 639,\n",
              " 640,\n",
              " 641,\n",
              " 642,\n",
              " 643,\n",
              " 644,\n",
              " 645,\n",
              " 646,\n",
              " 647,\n",
              " 648,\n",
              " 649,\n",
              " 650,\n",
              " 651,\n",
              " 652,\n",
              " 653,\n",
              " 654,\n",
              " 655,\n",
              " 656,\n",
              " 657,\n",
              " 658,\n",
              " 659,\n",
              " 660,\n",
              " 661,\n",
              " 662,\n",
              " 663,\n",
              " 664,\n",
              " 665,\n",
              " 666,\n",
              " 667,\n",
              " 668,\n",
              " 669,\n",
              " 670,\n",
              " 671,\n",
              " 672,\n",
              " 673,\n",
              " 674,\n",
              " 675,\n",
              " 676,\n",
              " 677,\n",
              " 678,\n",
              " 679,\n",
              " 680,\n",
              " 681,\n",
              " 682,\n",
              " 683,\n",
              " 684,\n",
              " 685,\n",
              " 686,\n",
              " 687,\n",
              " 688,\n",
              " 689,\n",
              " 690,\n",
              " 691,\n",
              " 692,\n",
              " 693,\n",
              " 694,\n",
              " 695,\n",
              " 696,\n",
              " 697,\n",
              " 698,\n",
              " 699,\n",
              " 700,\n",
              " 701,\n",
              " 702,\n",
              " 703,\n",
              " 704,\n",
              " 705,\n",
              " 706,\n",
              " 707,\n",
              " 708,\n",
              " 709,\n",
              " 710,\n",
              " 711,\n",
              " 712,\n",
              " 713,\n",
              " 714,\n",
              " 715,\n",
              " 716,\n",
              " 717,\n",
              " 718,\n",
              " 719,\n",
              " 720,\n",
              " 721,\n",
              " 722,\n",
              " 723,\n",
              " 724,\n",
              " 725,\n",
              " 726,\n",
              " 727,\n",
              " 728,\n",
              " 729,\n",
              " 730,\n",
              " 731,\n",
              " 732,\n",
              " 733,\n",
              " 734,\n",
              " 735,\n",
              " 736,\n",
              " 737,\n",
              " 738,\n",
              " 739,\n",
              " 740,\n",
              " 741,\n",
              " 742,\n",
              " 743,\n",
              " 744,\n",
              " 745,\n",
              " 746,\n",
              " 747,\n",
              " 748,\n",
              " 749,\n",
              " 750,\n",
              " 751,\n",
              " 752,\n",
              " 753,\n",
              " 754,\n",
              " 755,\n",
              " 756,\n",
              " 757,\n",
              " 758,\n",
              " 759,\n",
              " 760,\n",
              " 761,\n",
              " 762,\n",
              " 763,\n",
              " 764,\n",
              " 765,\n",
              " 766,\n",
              " 767,\n",
              " 768,\n",
              " 769,\n",
              " 770,\n",
              " 771,\n",
              " 772,\n",
              " 773,\n",
              " 774,\n",
              " 775,\n",
              " 776,\n",
              " 777,\n",
              " 778,\n",
              " 779,\n",
              " 780,\n",
              " 781,\n",
              " 782,\n",
              " 783,\n",
              " 784,\n",
              " 785,\n",
              " 786,\n",
              " 787,\n",
              " 788,\n",
              " 789,\n",
              " 790,\n",
              " 791,\n",
              " 792,\n",
              " 793,\n",
              " 794,\n",
              " 795,\n",
              " 796,\n",
              " 797,\n",
              " 798,\n",
              " 799,\n",
              " 800,\n",
              " 801,\n",
              " 802,\n",
              " 803,\n",
              " 804,\n",
              " 805,\n",
              " 806,\n",
              " 807,\n",
              " 808,\n",
              " 809,\n",
              " 810,\n",
              " 811,\n",
              " 812,\n",
              " 813,\n",
              " 814,\n",
              " 815,\n",
              " 816,\n",
              " 817,\n",
              " 818,\n",
              " 819,\n",
              " 820,\n",
              " 821,\n",
              " 822,\n",
              " 823,\n",
              " 824,\n",
              " 825,\n",
              " 826,\n",
              " 827,\n",
              " 828,\n",
              " 829,\n",
              " 830,\n",
              " 831,\n",
              " 832,\n",
              " 833,\n",
              " 834,\n",
              " 835,\n",
              " 836,\n",
              " 837,\n",
              " 838,\n",
              " 839,\n",
              " 840,\n",
              " 841,\n",
              " 842,\n",
              " 843,\n",
              " 844,\n",
              " 845,\n",
              " 846,\n",
              " 847,\n",
              " 848,\n",
              " 849,\n",
              " 850,\n",
              " 851,\n",
              " 852,\n",
              " 853,\n",
              " 854,\n",
              " 855,\n",
              " 856,\n",
              " 857,\n",
              " 858,\n",
              " 859,\n",
              " 860,\n",
              " 861,\n",
              " 862,\n",
              " 863,\n",
              " 864,\n",
              " 865,\n",
              " 866,\n",
              " 867,\n",
              " 868,\n",
              " 869,\n",
              " 870,\n",
              " 871,\n",
              " 872,\n",
              " 873,\n",
              " 874,\n",
              " 875,\n",
              " 876,\n",
              " 877,\n",
              " 878,\n",
              " 879,\n",
              " 880,\n",
              " 881,\n",
              " 882,\n",
              " 883,\n",
              " 884,\n",
              " 885,\n",
              " 886,\n",
              " 887,\n",
              " 888,\n",
              " 889,\n",
              " 890,\n",
              " 891,\n",
              " 892,\n",
              " 893,\n",
              " 894,\n",
              " 895,\n",
              " 896,\n",
              " 897,\n",
              " 898,\n",
              " 899,\n",
              " 900,\n",
              " 901,\n",
              " 902,\n",
              " 903,\n",
              " 904,\n",
              " 905,\n",
              " 906,\n",
              " 907,\n",
              " 908,\n",
              " 909,\n",
              " 910,\n",
              " 911,\n",
              " 912,\n",
              " 913,\n",
              " 914,\n",
              " 915,\n",
              " 916,\n",
              " 917,\n",
              " 918,\n",
              " 919,\n",
              " 920,\n",
              " 921,\n",
              " 922,\n",
              " 923,\n",
              " 924,\n",
              " 925,\n",
              " 926,\n",
              " 927,\n",
              " 928,\n",
              " 929,\n",
              " 930,\n",
              " 931,\n",
              " 932,\n",
              " 933,\n",
              " 934,\n",
              " 935,\n",
              " 936,\n",
              " 937,\n",
              " 938,\n",
              " 939,\n",
              " 940,\n",
              " 941,\n",
              " 942,\n",
              " 943,\n",
              " 944,\n",
              " 945,\n",
              " 946,\n",
              " 947,\n",
              " 948,\n",
              " 949,\n",
              " 950,\n",
              " 951,\n",
              " 952,\n",
              " 953,\n",
              " 954,\n",
              " 955,\n",
              " 956,\n",
              " 957,\n",
              " 958,\n",
              " 959,\n",
              " 960,\n",
              " 961,\n",
              " 962,\n",
              " 963,\n",
              " 964,\n",
              " 965,\n",
              " 966,\n",
              " 967,\n",
              " 968,\n",
              " 969,\n",
              " 970,\n",
              " 971,\n",
              " 972,\n",
              " 973,\n",
              " 974,\n",
              " 975,\n",
              " 976,\n",
              " 977,\n",
              " 978,\n",
              " 979,\n",
              " 980,\n",
              " 981,\n",
              " 982,\n",
              " 983,\n",
              " 984,\n",
              " 985,\n",
              " 986,\n",
              " 987,\n",
              " 988,\n",
              " 989,\n",
              " 990,\n",
              " 991,\n",
              " 992,\n",
              " 993,\n",
              " 994,\n",
              " 995,\n",
              " 996,\n",
              " 997,\n",
              " 998,\n",
              " 999,\n",
              " 1000]"
            ]
          },
          "metadata": {},
          "execution_count": 13
        }
      ],
      "source": [
        "# collect\n",
        "rdd.collect()"
      ]
    },
    {
      "cell_type": "markdown",
      "metadata": {
        "id": "ANXQAC0WQ3RL"
      },
      "source": [
        "## Map functions\n",
        "\n",
        "Now that you've been working a little bit with RDDs, let's make this a little more interesting. Imagine you're running a hot new e-commerce startup called BuyStuff, and you're trying to track of how much it charges customers from each item sold. In the next cell, we're going to create simulated data by multiplying the values 1-1000 with a random number from 0-1."
      ]
    },
    {
      "cell_type": "code",
      "execution_count": 14,
      "metadata": {
        "colab": {
          "base_uri": "https://localhost:8080/"
        },
        "id": "FOlw7ycNQ3RL",
        "outputId": "eb893836-25d9-4c07-c4d2-bb670886f2f2"
      },
      "outputs": [
        {
          "output_type": "execute_result",
          "data": {
            "text/plain": [
              "array([6.57013908e-01, 7.51030427e-01, 1.31829312e+00, 5.30077579e-01,\n",
              "       4.54004576e+00, 2.56815305e+00, 5.17041341e+00, 2.30270384e+00,\n",
              "       2.26463488e+00, 8.53715383e+00, 3.91778241e+00, 4.12576569e+00,\n",
              "       6.78910395e+00, 4.03576140e+00, 1.83138429e+00, 9.35841289e+00,\n",
              "       1.11600840e+01, 9.67293660e+00, 6.84511470e+00, 4.34341647e+00,\n",
              "       1.50099829e+01, 7.59884833e+00, 6.22173440e+00, 1.06090084e+01,\n",
              "       1.72704194e+01, 1.60323856e+01, 4.26893888e+00, 2.45781842e+01,\n",
              "       2.85127966e+01, 2.16478945e+01, 2.94212562e+01, 1.10146874e+01,\n",
              "       1.66861615e+01, 7.34505402e+00, 1.58387747e+00, 6.93555257e-01,\n",
              "       1.11552996e+01, 2.98132214e+01, 1.26628473e+01, 3.11588283e+01,\n",
              "       8.16763204e+00, 7.04730724e+00, 1.69369817e+01, 1.03578350e+01,\n",
              "       1.06536045e+00, 4.42894783e+01, 1.03642801e+01, 2.34624073e+01,\n",
              "       4.51857994e+01, 4.40920489e+01, 1.07978419e+01, 2.07403089e+01,\n",
              "       3.95755611e+01, 6.43554656e+00, 2.50453305e+01, 1.79086077e+01,\n",
              "       4.06582825e+01, 3.07005410e+01, 1.36988065e+01, 8.02649718e+00,\n",
              "       4.25482937e+01, 3.73109331e+01, 3.04044577e+01, 5.87525895e+01,\n",
              "       4.52297876e+01, 3.52024160e+01, 6.12417678e+01, 3.46111683e+01,\n",
              "       2.59111333e+01, 8.42991738e+00, 3.39841559e+01, 4.03893069e+01,\n",
              "       6.97761691e+01, 1.25088261e+01, 1.58600505e+01, 4.23320709e+01,\n",
              "       1.86939487e+00, 6.98198777e+01, 4.59980573e+01, 3.43285589e-01,\n",
              "       3.40641628e+01, 5.91740599e+01, 4.78868997e+00, 1.75216737e+01,\n",
              "       6.80000441e+01, 3.78487076e+01, 2.80333305e+01, 1.11308787e+01,\n",
              "       8.71653037e+01, 8.42612449e+01, 5.07345239e+01, 2.94798046e+01,\n",
              "       3.86970961e+01, 8.75878836e+01, 7.39660213e+01, 5.05066535e+01,\n",
              "       7.28034387e+01, 9.56790788e+01, 7.63081154e+01, 3.47759804e+01,\n",
              "       6.53548585e+01, 8.13872778e+01, 2.36383511e+01, 4.17451995e+01,\n",
              "       6.14222658e+01, 4.19139319e+01, 1.00636576e+02, 3.92789010e+01,\n",
              "       5.82025114e+01, 8.90675137e+00, 1.97568894e+01, 3.07526719e+01,\n",
              "       9.76875990e+01, 7.78725648e+01, 1.11089231e+02, 6.33873309e+01,\n",
              "       7.62782467e+01, 7.56174722e+01, 1.03426468e+02, 8.53214834e+01,\n",
              "       1.19515548e+02, 6.40814486e+01, 3.75265769e+01, 6.72223860e+01,\n",
              "       4.76768563e+01, 1.10543004e+01, 8.61146131e+01, 9.08607653e+01,\n",
              "       1.03128233e+02, 9.18911960e+00, 1.15972641e+01, 1.14723713e+02,\n",
              "       1.15671555e+02, 9.52374594e+01, 4.48561165e+01, 3.47887190e+01,\n",
              "       6.58676692e+01, 6.90555623e+01, 1.00734248e+02, 1.15158851e+02,\n",
              "       1.16818963e+01, 9.30138012e+01, 2.65295386e+01, 1.24300561e+02,\n",
              "       1.41953552e+02, 1.23794919e+02, 2.89972084e+01, 7.61897384e+01,\n",
              "       7.75679950e+01, 7.81429237e+01, 3.42773596e+01, 1.34021101e+02,\n",
              "       2.14360510e+01, 1.35004804e+02, 9.09085677e+01, 7.18344272e+01,\n",
              "       1.32139521e+02, 2.16784240e+00, 9.64360866e+01, 1.07316769e+02,\n",
              "       7.23952753e+00, 1.18728648e+02, 4.89701205e+01, 5.22297611e+01,\n",
              "       7.56781862e+00, 7.04857704e+01, 1.35252684e+01, 2.00809337e+01,\n",
              "       1.06728141e+02, 1.25966933e+02, 2.39279459e+01, 6.62443880e+01,\n",
              "       3.48471152e+01, 1.22376395e+02, 1.14536236e+02, 1.10859289e+02,\n",
              "       4.29828731e+01, 1.58730833e+02, 5.75301814e+01, 1.39415829e+02,\n",
              "       1.05615857e+02, 5.53260884e+01, 1.40304754e+01, 2.78887798e+01,\n",
              "       1.20700820e+02, 1.79381539e+02, 1.60502626e+02, 5.75535101e+01,\n",
              "       1.52546741e+02, 1.26931787e+02, 1.23942803e+02, 3.25720078e+01,\n",
              "       2.11262601e+01, 8.12217462e+01, 8.11888046e+01, 7.59767236e+01,\n",
              "       9.84371849e+01, 6.57860736e+01, 6.66771876e+01, 8.05077338e+01,\n",
              "       5.96069404e+01, 5.72609160e+01, 1.73510779e+02, 4.69049762e+01,\n",
              "       1.08982081e+02, 1.52685699e+02, 1.80617788e+02, 1.21139117e+02,\n",
              "       8.97535615e+01, 1.85893425e+02, 6.79529193e+01, 2.07407732e+02,\n",
              "       1.98087623e+02, 7.45753239e+00, 1.45595489e+02, 5.00244069e+01,\n",
              "       2.11084566e+02, 1.35497525e+02, 1.55380217e+02, 2.04980195e+02,\n",
              "       8.11156423e+01, 3.46428076e+01, 1.69187259e+02, 7.13888179e+01,\n",
              "       1.31780774e+01, 6.35205015e+01, 1.97492212e+02, 1.82312557e+02,\n",
              "       5.85226231e+01, 1.94941845e+02, 3.51214246e+01, 1.23749074e+02,\n",
              "       2.25357900e+02, 2.15673683e+02, 3.95162453e-01, 7.17591364e+01,\n",
              "       7.76950141e+01, 2.07904840e+02, 2.25193109e+02, 1.23761216e+02,\n",
              "       7.58184701e+01, 4.19845215e+01, 4.21430629e+01, 1.64471109e+02,\n",
              "       1.38923994e+02, 6.64404880e+01, 1.48946159e+02, 1.20816121e+02,\n",
              "       2.21088611e+02, 9.71184685e+00, 8.76286078e+01, 1.34902026e+02,\n",
              "       1.37646142e+02, 9.62451792e+01, 2.02089193e+02, 5.18369739e+01,\n",
              "       1.95378466e+02, 6.09162605e+01, 2.07659695e+02, 2.69573124e+01,\n",
              "       8.49673579e-01, 1.96783655e+02, 9.92452958e+01, 2.27947298e+02,\n",
              "       2.06722244e+02, 2.11890482e+02, 1.33809058e+02, 2.66877043e+02,\n",
              "       2.13304929e+02, 1.14667085e+02, 1.62825629e+01, 8.19028715e+00,\n",
              "       2.46916182e+02, 1.20015369e+02, 2.69365460e+02, 5.52983672e+01,\n",
              "       2.66597207e+02, 3.61451960e+01, 1.13105637e+02, 3.60966647e+01,\n",
              "       1.94343418e+02, 1.20602500e+01, 2.78275042e+02, 2.22475717e+02,\n",
              "       2.00544827e+02, 1.54154424e+02, 2.48001103e+01, 1.08067692e+02,\n",
              "       3.74731604e+01, 9.59598076e+01, 2.45746893e+02, 8.02484100e+01,\n",
              "       3.87808444e+01, 9.45689671e+01, 7.19044462e+01, 2.30191161e+02,\n",
              "       1.58945893e+02, 1.28949647e+02, 2.08534368e+02, 2.38940217e+01,\n",
              "       2.20599332e+02, 3.28134021e+01, 1.83798831e+02, 1.61637421e+02,\n",
              "       1.20347319e+02, 2.12921868e+02, 1.93091330e+02, 1.06044432e+02,\n",
              "       2.89965418e+02, 1.69987618e+02, 1.95173969e+02, 8.13889518e+01,\n",
              "       1.65072887e+02, 2.62853527e+02, 2.07749136e+02, 2.77747194e+02,\n",
              "       1.33313071e+02, 2.74327753e+02, 2.94740149e+01, 1.56272380e+02,\n",
              "       3.17193967e+02, 1.94063108e+02, 2.92913829e+02, 2.39045909e+02,\n",
              "       2.77884650e+02, 3.28822599e+00, 2.24577952e+02, 3.16149512e+02,\n",
              "       1.07583157e+02, 2.97792653e+02, 1.98903805e+02, 4.65625356e+01,\n",
              "       1.27643685e+02, 1.02356130e+01, 3.12190182e+02, 2.14822156e+02,\n",
              "       2.26664285e+02, 3.26046811e+02, 3.26435038e+02, 2.79615892e+01,\n",
              "       1.74499982e+02, 2.71560047e+02, 3.09509841e+02, 1.36873587e+02,\n",
              "       9.76299260e+01, 7.86364139e+00, 2.61696615e+02, 1.79304162e+02,\n",
              "       1.68939351e+01, 1.14051574e+02, 1.13231856e+02, 1.71045897e+01,\n",
              "       3.24155644e+02, 7.35271384e+01, 1.12495753e+02, 2.31609577e+02,\n",
              "       1.65806820e+02, 4.64271948e+01, 1.92692465e+02, 2.65606263e+02,\n",
              "       2.05376090e+02, 3.18119014e+02, 3.45159467e+02, 1.57043718e+02,\n",
              "       2.51635568e+02, 2.97228309e+02, 1.31036537e+02, 8.71768093e+01,\n",
              "       3.49140964e+02, 1.83729155e+02, 2.38858249e+02, 1.85287557e+02,\n",
              "       7.97818331e+01, 3.11735327e+02, 3.41310044e+02, 3.74138021e+02,\n",
              "       2.91487998e+02, 5.61791275e+01, 8.96822866e+01, 3.00264535e+02,\n",
              "       2.85331448e+01, 2.40945224e+02, 6.66733937e+01, 3.67943113e+02,\n",
              "       1.83260517e+02, 2.54478941e+02, 3.79000854e+02, 2.29021937e+02,\n",
              "       1.34798059e+02, 4.77993188e+01, 2.19462323e+02, 3.08022892e+02,\n",
              "       2.10241963e+02, 1.48372506e+02, 3.91023214e+01, 1.84580127e+02,\n",
              "       3.58602853e+02, 3.91277564e+01, 3.13088624e+02, 2.27024675e+02,\n",
              "       1.57860839e+02, 1.93584178e+02, 1.92679701e+02, 1.55468729e+02,\n",
              "       2.00032049e+02, 1.06177541e+02, 2.60912344e+02, 2.86213219e+02,\n",
              "       3.67450409e+02, 3.30787673e+02, 2.60351938e+01, 3.91575098e+02,\n",
              "       2.03311323e+02, 3.04819861e+02, 5.69664913e+01, 2.95105570e+02,\n",
              "       2.01990536e+02, 2.39801215e+02, 1.60162653e+02, 3.53389433e+02,\n",
              "       3.85613576e+02, 2.49623585e+02, 3.02488549e+01, 3.44452603e+02,\n",
              "       3.49449123e+02, 7.71705945e+01, 2.70489435e+02, 1.94879561e+02,\n",
              "       2.40272007e+02, 3.21542862e+02, 3.17991482e+02, 1.26236902e+02,\n",
              "       3.82616566e+01, 2.97942477e+02, 3.58931135e+02, 2.17801551e+02,\n",
              "       9.13684763e+01, 3.15159977e+02, 3.86558746e+02, 2.57642829e+02,\n",
              "       3.91779066e+02, 2.85143299e+02, 1.66638904e+02, 1.80435948e+01,\n",
              "       4.43875595e+02, 1.48383357e+02, 2.11481077e+02, 3.97233572e+02,\n",
              "       1.82967680e+02, 1.63031323e+02, 1.06717460e+02, 8.56452665e+01,\n",
              "       4.16738267e+02, 1.70748948e+02, 5.26503619e+01, 4.18780876e+02,\n",
              "       6.30685547e+01, 3.86894212e+02, 4.48587486e+02, 8.98040686e+01,\n",
              "       6.44338967e+01, 3.63152411e+02, 3.39198808e-01, 3.92142603e+02,\n",
              "       3.20420923e+02, 4.33718972e+02, 2.56824979e+01, 2.31209030e+02,\n",
              "       1.94570049e+02, 6.79208752e+01, 1.34312394e+02, 3.14509019e+02,\n",
              "       1.08807631e+02, 3.92862646e+01, 1.42007147e+00, 3.68250690e+02,\n",
              "       3.92606804e+02, 6.75492272e+01, 3.93784990e+01, 2.53192033e+02,\n",
              "       2.79906018e+02, 2.11819137e+02, 3.92059932e+02, 3.39692486e+02,\n",
              "       4.04591947e+02, 4.07595219e+02, 1.15693361e+02, 2.59802084e+02,\n",
              "       3.88288575e+02, 1.43637462e+01, 4.01177926e+02, 2.33020593e+02,\n",
              "       3.87110135e+02, 1.72923568e+02, 2.27170467e+02, 3.19028615e+02,\n",
              "       4.67876354e+02, 4.18173321e+02, 4.47266101e+02, 2.69203441e+02,\n",
              "       1.96502393e+02, 4.59805397e+02, 4.53534954e+02, 1.59556681e+02,\n",
              "       1.35119476e+02, 1.97324729e+02, 1.14787015e+02, 1.14824056e+02,\n",
              "       4.57324057e+02, 1.66062248e+02, 4.11987213e+02, 2.12529116e+02,\n",
              "       2.51365784e+02, 6.87140852e+01, 2.14462735e+02, 3.44607472e+02,\n",
              "       1.54534480e+02, 9.44940241e+01, 4.59876842e+02, 8.82706824e+01,\n",
              "       9.57729578e+01, 7.98989389e+00, 4.33198755e+02, 1.80587719e+02,\n",
              "       4.96386050e+02, 3.46242550e+02, 4.21036112e+02, 3.62605987e+02,\n",
              "       1.36951251e+02, 1.85061912e+02, 2.93597157e+02, 6.16932813e+01,\n",
              "       4.52577475e+01, 3.25567625e+02, 4.21146660e+02, 2.60218588e+02,\n",
              "       1.38720775e+02, 9.36331796e+01, 4.17590742e+02, 2.53700027e+02,\n",
              "       1.42988071e+02, 3.50490704e+02, 6.58076740e+01, 9.00984897e+01,\n",
              "       4.57647944e+02, 1.33824946e+01, 4.36606009e+02, 2.87291742e+02,\n",
              "       1.56536069e+02, 5.18169692e+02, 2.62153570e+02, 3.72708355e+02,\n",
              "       3.57922122e+02, 5.47150837e+02, 1.35050642e+02, 2.36858574e+02,\n",
              "       4.62119496e+02, 2.53525166e+02, 3.43162689e+02, 2.76833243e+02,\n",
              "       2.85495526e+02, 5.47706591e+02, 2.99649647e+02, 2.26781985e+01,\n",
              "       5.38933890e+02, 4.96696923e+02, 4.67715091e+02, 4.10623621e+02,\n",
              "       2.64113052e+01, 3.64592662e+02, 5.56282917e+02, 1.39263001e+02,\n",
              "       4.67633718e+02, 1.58296589e+02, 4.53921970e+02, 3.35124945e+02,\n",
              "       1.84787368e+02, 1.01845517e+02, 1.29487398e+02, 1.75007641e+02,\n",
              "       5.39847669e+02, 1.74416136e+02, 3.20119003e+02, 1.34933138e+02,\n",
              "       3.97023565e+02, 9.22294801e+01, 3.38137105e+02, 5.67548586e+02,\n",
              "       3.07355118e+02, 4.39307525e+02, 3.89044807e+02, 3.28860085e+02,\n",
              "       2.43399258e+02, 4.63762625e+01, 1.34381553e+01, 4.00436845e+02,\n",
              "       5.49699449e+01, 3.39007977e+00, 1.32365411e+02, 1.74564539e+02,\n",
              "       3.75990039e+02, 5.81747566e+02, 3.09120037e+02, 1.01959310e+02,\n",
              "       2.08378479e+02, 3.47871288e+02, 5.81591103e+02, 4.72568611e+02,\n",
              "       4.07042107e+02, 5.02260706e+02, 4.36824273e+02, 5.60743559e+02,\n",
              "       2.87835115e+02, 3.85226348e+02, 3.84727744e+00, 1.05449597e+02,\n",
              "       3.79907939e+02, 5.26657258e+02, 2.80952545e+02, 5.81048247e+02,\n",
              "       4.54026395e+02, 3.52927662e+02, 3.66455713e+02, 4.27099433e+02,\n",
              "       5.22474546e+02, 5.59679343e+02, 4.01031477e+02, 2.84139845e+02,\n",
              "       1.63460816e+02, 5.59357977e+02, 1.92218654e+02, 4.02113743e+02,\n",
              "       2.45998105e+02, 4.22352685e+02, 5.78695820e+01, 3.56211974e+02,\n",
              "       3.78178605e+02, 5.22357306e+02, 2.38235364e+02, 3.82397494e+02,\n",
              "       5.38421442e+02, 4.35327041e+02, 5.51566031e+02, 1.84572624e+02,\n",
              "       5.45293341e+02, 5.36813574e+02, 3.90504658e+02, 4.78094339e+02,\n",
              "       4.16868803e+02, 1.52396428e+02, 2.64105065e+02, 3.62472282e+02,\n",
              "       4.97391394e+02, 6.36206008e+02, 5.88155225e+02, 6.47786677e+01,\n",
              "       3.98098603e+02, 2.96755443e+01, 5.07145752e+01, 3.38667051e+02,\n",
              "       5.73773915e+02, 3.55322185e+02, 4.46856501e+02, 4.54336610e+02,\n",
              "       2.65809277e+02, 2.08354378e+01, 4.38493354e+02, 8.17288880e+01,\n",
              "       2.67457857e+02, 4.83975354e+02, 5.77876803e+02, 5.77308500e+02,\n",
              "       4.86474258e+02, 5.47925772e+02, 1.86570144e+02, 4.63446263e+02,\n",
              "       4.37833144e+02, 5.63370085e+02, 7.77371568e-01, 4.65043152e+02,\n",
              "       1.37676428e+02, 5.99593065e+02, 2.65716446e+02, 2.17528797e+02,\n",
              "       8.53724858e+00, 4.39987340e+02, 4.29771288e+02, 3.96329918e+02,\n",
              "       3.55021588e+02, 5.84789332e+02, 5.12330063e+00, 3.03056196e+02,\n",
              "       5.78492495e+02, 3.31550972e+02, 1.85008891e+02, 3.02547741e+02,\n",
              "       3.18226533e+02, 6.89309383e+02, 3.62250581e+02, 3.13274248e+02,\n",
              "       2.93248432e+02, 2.31809491e+02, 1.62560219e+02, 4.20005404e+02,\n",
              "       1.83721556e+02, 4.75974049e+02, 3.00153761e+02, 2.71328829e+02,\n",
              "       3.58264544e+02, 4.18058498e+02, 1.44366695e+02, 7.15010811e+00,\n",
              "       5.70598480e+02, 1.49575072e+02, 5.57721412e+02, 1.83703055e+02,\n",
              "       5.13815426e+02, 2.56610750e+02, 1.78947533e+02, 1.38422973e+02,\n",
              "       6.47767430e+02, 5.41288443e+02, 3.24886521e+02, 2.32066288e+02,\n",
              "       4.53383744e+02, 1.44075002e+02, 7.28795552e+01, 8.09711422e+01,\n",
              "       2.43805069e+01, 4.68746644e+02, 6.17401019e+02, 1.51790915e+02,\n",
              "       3.95504678e+02, 3.90385347e+02, 5.64648066e+02, 2.66850746e+02,\n",
              "       7.05865707e+02, 7.26799148e+02, 3.40148254e+02, 2.53852798e+02,\n",
              "       3.43425714e+02, 6.77430287e+02, 1.16519885e+02, 5.23624925e+02,\n",
              "       5.01542756e+02, 7.54448341e+01, 4.66478779e+02, 3.08537046e+02,\n",
              "       1.11227267e+02, 6.16227212e+02, 3.56840103e+02, 3.26368398e+02,\n",
              "       3.99605003e+02, 3.38896620e+02, 3.70254546e+02, 3.72041400e+02,\n",
              "       2.08634493e+02, 2.56764517e+02, 9.65517629e+01, 2.85105334e+02,\n",
              "       2.18702002e+02, 1.73669540e+02, 1.40561593e+02, 2.75208425e+02,\n",
              "       6.54781527e+02, 3.69437788e+02, 7.48447127e+02, 5.41861473e+02,\n",
              "       2.06553625e+02, 5.77537973e+02, 2.33488740e+02, 2.46760525e+02,\n",
              "       2.01197103e+01, 7.69861701e+02, 2.81421509e+02, 4.91292177e+02,\n",
              "       6.49522851e+02, 6.39644420e+02, 6.27244549e+02, 4.19507332e+02,\n",
              "       2.77993073e+02, 4.28442620e+02, 3.86519322e+02, 6.72817946e+02,\n",
              "       5.39808132e+02, 2.91828960e+01, 5.60554467e+02, 7.77604512e+02,\n",
              "       1.62476315e+02, 4.52012970e+02, 6.13228553e+02, 7.55315914e+02,\n",
              "       3.20441502e+02, 3.43582786e+02, 3.98514841e+02, 4.38350343e+01,\n",
              "       4.78553875e+02, 5.13976191e+02, 7.90530713e+02, 1.12044852e+02,\n",
              "       1.39095715e+02, 5.12264906e+02, 4.35801001e+02, 7.28704497e+02,\n",
              "       8.56104814e+01, 5.95552241e+02, 3.57242270e+02, 4.26880644e+02,\n",
              "       3.37433925e+02, 4.36609589e+02, 6.89436742e+02, 3.45947493e+02,\n",
              "       6.10326328e+02, 2.87183328e+02, 2.85945219e+02, 4.24257811e+02,\n",
              "       3.58106789e+02, 7.83355662e+02, 7.73325222e+02, 4.81225532e+02,\n",
              "       1.71792760e+02, 3.92738231e+02, 7.15715575e+02, 8.36402518e+00,\n",
              "       1.68645971e+02, 7.47474301e+02, 3.51048524e+02, 1.02939773e+02,\n",
              "       5.89231302e+02, 4.67726063e+01, 3.29953873e+02, 9.05281715e+00,\n",
              "       4.74345176e+02, 4.64534658e+02, 8.15330817e+02, 6.02944657e+02,\n",
              "       6.68976779e+02, 2.66621710e+02, 1.97366497e+02, 1.91694070e+02,\n",
              "       5.96954214e+02, 1.31887942e+02, 3.21297011e+02, 1.38063161e+01,\n",
              "       8.30074513e+02, 6.73042658e+02, 1.46025157e+02, 2.40611789e+02,\n",
              "       1.67603323e+02, 5.54922060e+01, 2.71377655e+02, 3.86197006e+02,\n",
              "       3.51805303e+02, 1.55686937e+01, 1.15978877e+02, 3.50742883e+02,\n",
              "       4.54372060e+02, 5.62700276e+02, 2.97251832e+02, 4.91537855e+02,\n",
              "       1.70127571e+02, 8.26331715e+02, 5.23439184e+02, 7.28471750e+02,\n",
              "       2.06793612e+02, 6.58668841e+01, 4.00350497e+02, 3.16506699e+02,\n",
              "       8.15285793e+02, 5.75844534e+02, 5.59214370e+02, 3.30265773e+01,\n",
              "       5.02039034e+02, 8.62253412e+02, 5.70278734e+02, 6.86937135e+02,\n",
              "       3.71964290e+02, 2.18347914e+02, 7.35507431e+02, 3.30685383e+02,\n",
              "       5.09473747e+02, 6.13114688e+02, 3.15650535e+02, 8.46075096e+02,\n",
              "       6.64910157e+02, 3.71608085e+02, 4.15669119e+02, 6.75609008e+02,\n",
              "       7.38324952e+02, 1.79276762e+02, 7.98932752e+02, 3.78216304e+02,\n",
              "       8.13070389e+02, 4.28660394e+01, 6.49389945e+02, 5.78072360e+02,\n",
              "       1.04529264e+02, 4.89547582e+02, 7.24229686e+02, 3.41915439e+02,\n",
              "       7.60885918e+02, 7.31172774e+02, 5.78579501e+02, 7.36815322e+01,\n",
              "       3.64411292e+02, 7.55918482e+01, 5.37690900e+02, 3.75757269e-01,\n",
              "       5.91498339e+02, 5.06114682e+02, 6.90731761e+02, 6.74572504e+02,\n",
              "       4.49821639e+02, 3.86369044e+02, 3.45253657e+02, 5.11764285e+02,\n",
              "       4.78820072e+02, 8.13983560e+01, 4.79997796e+02, 6.46791134e+02,\n",
              "       7.07003362e+02, 8.33617541e+02, 4.11953780e+01, 1.23458244e+02,\n",
              "       4.68487004e+02, 6.57160551e+02, 9.06779252e+02, 2.96773585e+02,\n",
              "       1.93237201e+02, 3.79747645e+02, 2.38749364e+02, 8.74689644e+02,\n",
              "       3.30059976e+02, 9.16654463e+02, 4.47554725e+02, 3.86826029e+02,\n",
              "       9.05322086e+02, 6.55867884e+02, 2.06718965e+02, 1.72954672e+01,\n",
              "       4.88589670e+02, 1.50238618e+01, 6.45289188e+02, 4.30686274e+02,\n",
              "       8.14282028e+02, 2.49287620e+02, 2.14085254e+02, 2.55834514e+02,\n",
              "       7.60554258e+02, 8.83302957e+02, 5.66685693e+02, 5.09616336e+02,\n",
              "       6.39416673e+02, 3.95568522e+02, 4.20285345e+01, 7.83016143e+02,\n",
              "       6.57457450e+02, 3.65133987e+02, 9.35065305e+02, 7.63000060e+02,\n",
              "       4.64945503e+02, 2.61024280e+02, 6.17900836e+02, 9.50809959e+02,\n",
              "       3.80289242e+02, 8.90404620e+02, 5.16075078e+02, 9.13683754e+02,\n",
              "       5.49992569e+02, 8.97566237e+02, 6.95190700e+02, 2.87604212e+02,\n",
              "       3.17197785e+02, 3.42721824e+02, 8.69544468e+02, 2.79754349e+02,\n",
              "       3.59681266e+02, 1.54928395e+02, 5.30220394e+02, 2.77912076e+02,\n",
              "       6.31422025e+02, 9.07744477e+02, 3.10531172e+02, 4.38888241e+02,\n",
              "       6.19147904e+02, 2.58558871e+02, 2.43492801e+02, 2.33683514e+02,\n",
              "       8.68346694e+02, 3.72675799e+02, 3.83635150e+02, 1.90811553e+02,\n",
              "       7.65885921e+02, 6.74425702e+02, 5.40497735e+02, 4.95314608e+02,\n",
              "       1.36309788e+02, 8.76861177e+02, 6.02308475e+02, 1.73069792e+01])"
            ]
          },
          "metadata": {},
          "execution_count": 14
        }
      ],
      "source": [
        "import random\n",
        "import numpy as np\n",
        "\n",
        "nums = np.array(range(1, 1001))\n",
        "sales_figures = nums * np.random.rand(1000)\n",
        "sales_figures"
      ]
    },
    {
      "cell_type": "markdown",
      "metadata": {
        "id": "mE8_gaRtQ3RL"
      },
      "source": [
        "We now have sales prices for 1000 items currently for sale at BuyStuff. Now create an RDD called `price_items` using the newly created data with 10 slices. After you create it, use one of the basic actions to see what's in the RDD."
      ]
    },
    {
      "cell_type": "code",
      "execution_count": 16,
      "metadata": {
        "colab": {
          "base_uri": "https://localhost:8080/"
        },
        "id": "lF0xBVoaQ3RL",
        "outputId": "7f389e0c-9826-4698-ef1b-9bdbbb441cce"
      },
      "outputs": [
        {
          "output_type": "execute_result",
          "data": {
            "text/plain": [
              "[0.6570139079953231,\n",
              " 0.7510304273307942,\n",
              " 1.3182931209011572,\n",
              " 0.5300775794809081,\n",
              " 4.540045756288523]"
            ]
          },
          "metadata": {},
          "execution_count": 16
        }
      ],
      "source": [
        "price_items = sc.parallelize(sales_figures, 10)\n",
        "price_items.take(5)"
      ]
    },
    {
      "cell_type": "markdown",
      "metadata": {
        "id": "7OoI6FFLQ3RM"
      },
      "source": [
        "Now let's perform some operations on this simple dataset. To begin with, create a function that will take into account how much money BuyStuff will receive after sales tax has been applied (assume a sales tax of 8%). To make this happen, create a function called `sales_tax()` that returns the amount of money our company will receive after the sales tax has been applied. The function will have this parameter:\n",
        "\n",
        "* `item`: (float) number to be multiplied by the sales tax.\n",
        "\n",
        "\n",
        "Apply that function to the rdd by using the `.map()` method and assign it to a variable `renenue_minus_tax`"
      ]
    },
    {
      "cell_type": "code",
      "execution_count": 17,
      "metadata": {
        "id": "E4JQWanlQ3RM"
      },
      "outputs": [],
      "source": [
        "def sales_tax(num):\n",
        "  return num*.98\n",
        "\n",
        "revenue_minus_tax = price_items.map(sales_tax)"
      ]
    },
    {
      "cell_type": "markdown",
      "metadata": {
        "id": "D5Yvva8YQ3RM"
      },
      "source": [
        "Remember, Spark has __lazy evaluation__, which means that the `sales_tax()` function is a transformer that is not executed until you call an action. Use one of the collection methods to execute the transformer now a part of the RDD and observe the contents of the `revenue_minus_tax` rdd."
      ]
    },
    {
      "cell_type": "code",
      "execution_count": 18,
      "metadata": {
        "scrolled": true,
        "colab": {
          "base_uri": "https://localhost:8080/"
        },
        "id": "cE_20cHtQ3RM",
        "outputId": "1e1ecc43-644b-4b5f-c836-944a5674a167"
      },
      "outputs": [
        {
          "output_type": "execute_result",
          "data": {
            "text/plain": [
              "[0.6438736298354166,\n",
              " 0.7360098187841783,\n",
              " 1.291927258483134,\n",
              " 0.5194760278912899,\n",
              " 4.449244841162752,\n",
              " 2.51678998796202,\n",
              " 5.067005145653943,\n",
              " 2.2566497622433865,\n",
              " 2.219342181986122,\n",
              " 8.366410756007788]"
            ]
          },
          "metadata": {},
          "execution_count": 18
        }
      ],
      "source": [
        "# perform action to retrieve rdd values\n",
        "revenue_minus_tax.take(10)"
      ]
    },
    {
      "cell_type": "markdown",
      "metadata": {
        "id": "xVPDQKGhQ3RM"
      },
      "source": [
        "### Lambda Functions\n",
        "\n",
        "Note that you can also use lambda functions if you want to quickly perform simple operations on data without creating a function. Let's assume that BuyStuff has also decided to offer a 10% discount on all of their items on the pre-tax amounts of each item. Use a lambda function within a `.map()` method to apply the additional 10% loss in revenue for BuyStuff and assign the transformed RDD to a new RDD called `discounted`."
      ]
    },
    {
      "cell_type": "code",
      "execution_count": 19,
      "metadata": {
        "id": "aXJdGjQuQ3RM"
      },
      "outputs": [],
      "source": [
        "discounted = revenue_minus_tax.map(lambda x : x*0.9)"
      ]
    },
    {
      "cell_type": "code",
      "execution_count": 20,
      "metadata": {
        "scrolled": true,
        "colab": {
          "base_uri": "https://localhost:8080/"
        },
        "id": "LymDyG-jQ3RM",
        "outputId": "696a4d90-e23a-4f4d-c015-cda09c36cff5"
      },
      "outputs": [
        {
          "output_type": "execute_result",
          "data": {
            "text/plain": [
              "[0.579486266851875,\n",
              " 0.6624088369057605,\n",
              " 1.1627345326348206,\n",
              " 0.4675284251021609,\n",
              " 4.004320357046477,\n",
              " 2.265110989165818,\n",
              " 4.560304631088549,\n",
              " 2.0309847860190477,\n",
              " 1.9974079637875097,\n",
              " 7.52976968040701]"
            ]
          },
          "metadata": {},
          "execution_count": 20
        }
      ],
      "source": [
        "discounted.take(10)"
      ]
    },
    {
      "cell_type": "markdown",
      "metadata": {
        "id": "Qvx9d5znQ3RN"
      },
      "source": [
        "## Chaining Methods\n",
        "\n",
        "You are also able to chain methods together with Spark. In one line, remove the tax and discount from the revenue of BuyStuff and use a collection method to see the 15 costliest items."
      ]
    },
    {
      "cell_type": "code",
      "execution_count": 23,
      "metadata": {
        "scrolled": true,
        "colab": {
          "base_uri": "https://localhost:8080/"
        },
        "id": "ziMthGViQ3RN",
        "outputId": "eb928015-0622-4b99-ac00-ff8dd007b42c"
      },
      "outputs": [
        {
          "output_type": "execute_result",
          "data": {
            "text/plain": [
              "[838.6143842729786,\n",
              " 824.7275991165474,\n",
              " 808.4892360663181,\n",
              " 805.8690712961411,\n",
              " 800.6306286287944,\n",
              " 799.7793004875346,\n",
              " 798.4940798685169,\n",
              " 791.6534214372964,\n",
              " 785.3368752714672,\n",
              " 779.0732084376859,\n",
              " 773.3915580215969,\n",
              " 771.4762662136534,\n",
              " 766.938220635069,\n",
              " 765.8817844525906,\n",
              " 760.5075092520711]"
            ]
          },
          "metadata": {},
          "execution_count": 23
        }
      ],
      "source": [
        "price_items.map(sales_tax).map(lambda x : x*0.9).top(15)"
      ]
    },
    {
      "cell_type": "markdown",
      "metadata": {
        "id": "7rGhFiilQ3RN"
      },
      "source": [
        "## RDD Lineage\n",
        "\n",
        "\n",
        "We are able to see the full lineage of all the operations that have been performed on an RDD by using the `RDD.toDebugString()` method. As your transformations become more complex, you are encouraged to call this method to get a better understanding of the dependencies between RDDs. Try calling it on the `discounted` RDD to see what RDDs it is dependent on."
      ]
    },
    {
      "cell_type": "code",
      "execution_count": 26,
      "metadata": {
        "colab": {
          "base_uri": "https://localhost:8080/"
        },
        "id": "BDzFB8rZQ3RN",
        "outputId": "acf2ebce-7a55-48aa-b936-e051c2d88b0a"
      },
      "outputs": [
        {
          "output_type": "execute_result",
          "data": {
            "text/plain": [
              "b'(10) PythonRDD[14] at RDD at PythonRDD.scala:53 []\\n |   ParallelCollectionRDD[7] at readRDDFromFile at PythonRDD.scala:274 []'"
            ]
          },
          "metadata": {},
          "execution_count": 26
        }
      ],
      "source": [
        "discounted.toDebugString()"
      ]
    },
    {
      "cell_type": "markdown",
      "metadata": {
        "id": "7zFUrttXQ3RN"
      },
      "source": [
        "### Map vs. Flatmap\n",
        "\n",
        "Depending on how you want your data to be outputted, you might want to use `.flatMap()` rather than a simple `.map()`. Let's take a look at how it performs operations versus the standard map. Let's say we wanted to maintain the original amount BuyStuff receives for each item as well as the new amount after the tax and discount are applied. Create a map function that will return a tuple with (original price, post-discount price)."
      ]
    },
    {
      "cell_type": "code",
      "execution_count": 27,
      "metadata": {
        "colab": {
          "base_uri": "https://localhost:8080/"
        },
        "id": "41ndfzvuQ3RN",
        "outputId": "16c94559-647e-4986-e5ee-d85ae0770555"
      },
      "outputs": [
        {
          "output_type": "stream",
          "name": "stdout",
          "text": [
            "1000\n",
            "[(0.6570139079953231, 0.5440075158201276), (0.7510304273307942, 0.6218531938298976), (1.3182931209011572, 1.0915467041061582), (0.5300775794809081, 0.4389042358101919), (4.540045756288523, 3.759157886206897), (2.568153048940837, 2.126430724523013), (5.170413413932595, 4.281102306736188), (2.302703839023864, 1.9066387787117596), (2.2646348795776756, 1.8751176802903153), (8.537153832661009, 7.068763373443316)]\n"
          ]
        }
      ],
      "source": [
        "mapped = price_items.map(lambda x: (x, x*0.92 *0.9))\n",
        "print(mapped.count())\n",
        "print(mapped.take(10))"
      ]
    },
    {
      "cell_type": "markdown",
      "metadata": {
        "id": "s7yZs80zQ3RN"
      },
      "source": [
        "Note that we have 1000 tuples created to our specification. Let's take a look at how `.flatMap()` differs in its implementation. Use the `.flatMap()` method with the same function you created above."
      ]
    },
    {
      "cell_type": "code",
      "execution_count": 28,
      "metadata": {
        "colab": {
          "base_uri": "https://localhost:8080/"
        },
        "id": "pmGGAVDgQ3RN",
        "outputId": "6ec0af70-7337-488d-c6c5-b2f35e84ff5d"
      },
      "outputs": [
        {
          "output_type": "stream",
          "name": "stdout",
          "text": [
            "2000\n",
            "[0.6570139079953231, 0.5440075158201276, 0.7510304273307942, 0.6218531938298976, 1.3182931209011572, 1.0915467041061582, 0.5300775794809081, 0.4389042358101919, 4.540045756288523, 3.759157886206897]\n"
          ]
        }
      ],
      "source": [
        "flat_mapped = price_items.flatMap(lambda x : (x, x*0.92*0.9 ))\n",
        "print(flat_mapped.count())\n",
        "print(flat_mapped.take(10))"
      ]
    },
    {
      "cell_type": "markdown",
      "metadata": {
        "id": "kFcx-U0SQ3RO"
      },
      "source": [
        "Rather than being represented by tuples, all of the  values are now on the same level. When we are trying to combine different items together, it is sometimes necessary to use `.flatMap()` rather than `.map()` in order to properly reduce to our specifications. This is not one of those instances, but in the upcoming lab, you just might have to use it."
      ]
    },
    {
      "cell_type": "markdown",
      "metadata": {
        "id": "6Ht6Q5RVQ3RO"
      },
      "source": [
        "## Filter\n",
        "After meeting with some external consultants, BuyStuff has determined that its business will be more profitable if it focuses on higher ticket items. Now, use the `.filter()` method to select items that bring in more than $300 after tax and discount have been removed. A filter method is a specialized form of a map function that only returns the items that match a certain criterion. In the cell below:\n",
        "* use a lambda function within a `.filter()` method to meet the consultant's suggestion's specifications. set `RDD = selected_items`\n",
        "* calculate the total number of items remaining in BuyStuff's inventory"
      ]
    },
    {
      "cell_type": "code",
      "execution_count": 32,
      "metadata": {
        "colab": {
          "base_uri": "https://localhost:8080/"
        },
        "id": "O4QY4qYOQ3RO",
        "outputId": "e80d931b-87a0-451c-f034-acfd77e1b79e"
      },
      "outputs": [
        {
          "output_type": "execute_result",
          "data": {
            "text/plain": [
              "322"
            ]
          },
          "metadata": {},
          "execution_count": 32
        }
      ],
      "source": [
        "# use the filter function\n",
        "selected_items = discounted.filter(lambda x: x>300)\n",
        "\n",
        "# calculate total remaining in inventory \n",
        "selected_items.count()"
      ]
    },
    {
      "cell_type": "markdown",
      "metadata": {
        "id": "ID9R-OtoQ3RO"
      },
      "source": [
        "## Reduce\n",
        "\n",
        "Reduce functions are where you are in some way combing all of the variables that you have mapped out. Here is an example of how a reduce function works when the task is to sum all values:\n",
        "\n",
        "<img src = \"./images/reduce_function.png\" width = \"600\">  \n",
        "\n",
        "\n",
        "As you can see, the operation is performed within each partition first, after which, the results of the computations in each partition are combined to come up with one final answer.  \n",
        "\n",
        "Now it's time to figure out how much money BuyStuff would make from selling one of all of its items after they've reduced their inventory. Use the `.reduce()` method with a lambda function to add up all of the values in the RDD. Your lambda function should have two variables. "
      ]
    },
    {
      "cell_type": "code",
      "execution_count": 33,
      "metadata": {
        "colab": {
          "base_uri": "https://localhost:8080/"
        },
        "id": "rCdNMaNqQ3RO",
        "outputId": "08ac853c-fc1b-4db6-e6b6-cc5eb66c4186"
      },
      "outputs": [
        {
          "output_type": "execute_result",
          "data": {
            "text/plain": [
              "148374.93458355256"
            ]
          },
          "metadata": {},
          "execution_count": 33
        }
      ],
      "source": [
        "selected_items.reduce(lambda x,y: x + y)"
      ]
    },
    {
      "cell_type": "markdown",
      "metadata": {
        "id": "QoUe2C1uQ3RO"
      },
      "source": [
        "The time has come for BuyStuff to open up shop and start selling its goods. It only has one of each item, but it's allowing 50 lucky users to buy as many items as they want while they remain in stock. Within seconds, BuyStuff is sold out. Below, you'll find the sales data in an RDD with tuples of (user, item bought)."
      ]
    },
    {
      "cell_type": "code",
      "execution_count": 34,
      "metadata": {
        "colab": {
          "base_uri": "https://localhost:8080/"
        },
        "id": "HdPPdnM5Q3RO",
        "outputId": "217724df-893e-4d22-d07f-353b9dbfde63"
      },
      "outputs": [
        {
          "output_type": "execute_result",
          "data": {
            "text/plain": [
              "[(43, 304.4306498235886),\n",
              " (36, 307.94233066435226),\n",
              " (25, 301.03545854692373),\n",
              " (18, 329.98973416739295),\n",
              " (25, 324.52582601532185),\n",
              " (35, 334.2787528195129),\n",
              " (19, 316.28771622382084)]"
            ]
          },
          "metadata": {},
          "execution_count": 34
        }
      ],
      "source": [
        "import random\n",
        "random.seed(42)\n",
        "# generating simulated users that have bought each item\n",
        "sales_data = selected_items.map(lambda x: (random.randint(1, 50), x))\n",
        "\n",
        "sales_data.take(7)"
      ]
    },
    {
      "cell_type": "markdown",
      "metadata": {
        "id": "PpuPTACXQ3RO"
      },
      "source": [
        "It's time to determine some basic statistics about BuyStuff users.\n",
        "\n",
        "Let's start off by creating an RDD that determines how much each user spent in total.\n",
        "To do this we can use a method called `.reduceByKey()` to perform reducing operations while grouping by keys. After you have calculated the total, use the `.sortBy()` method on the RDD to rank the users from the highest spending to the least spending. "
      ]
    },
    {
      "cell_type": "code",
      "execution_count": 36,
      "metadata": {
        "id": "eU2Yy1LmQ3RO"
      },
      "outputs": [],
      "source": [
        "# calculate how much each user spent\n",
        "total_spent = sales_data.reduceByKey(lambda x, y: x + y)"
      ]
    },
    {
      "cell_type": "code",
      "execution_count": 37,
      "metadata": {
        "colab": {
          "base_uri": "https://localhost:8080/"
        },
        "id": "DD1FEpEnQ3RP",
        "outputId": "e33b8f5a-1cac-48ac-b653-bce219e624de"
      },
      "outputs": [
        {
          "output_type": "execute_result",
          "data": {
            "text/plain": [
              "[(32, 5803.439863780104),\n",
              " (50, 5803.263700378549),\n",
              " (9, 5299.98156039519),\n",
              " (30, 4903.007182342491),\n",
              " (16, 4802.338358576729),\n",
              " (28, 4504.351605936608),\n",
              " (31, 4342.04506687522),\n",
              " (37, 4276.674987965187),\n",
              " (25, 3973.2962805951647),\n",
              " (7, 3858.497560450051),\n",
              " (22, 3784.007803002143),\n",
              " (49, 3679.112925826701),\n",
              " (21, 3626.4229943860096),\n",
              " (12, 3605.3537485777733),\n",
              " (38, 3594.6107741115356),\n",
              " (42, 3541.1275935187514),\n",
              " (15, 3228.739888550137),\n",
              " (35, 3221.036241161615),\n",
              " (36, 3105.2911651602867),\n",
              " (11, 3041.666202069363),\n",
              " (4, 3026.354621526395),\n",
              " (24, 3007.3214859356017),\n",
              " (6, 2956.746368845522),\n",
              " (44, 2942.13266842338),\n",
              " (40, 2851.929221127071),\n",
              " (3, 2848.103640718851),\n",
              " (23, 2785.9063720272316),\n",
              " (46, 2702.6813138350353),\n",
              " (1, 2655.1430052263963),\n",
              " (34, 2581.5089079580575),\n",
              " (41, 2542.4934541129774),\n",
              " (5, 2539.5897071029785),\n",
              " (27, 2465.443760735251),\n",
              " (20, 2460.312514715358),\n",
              " (14, 2319.0004487798587),\n",
              " (39, 2288.5884747132254),\n",
              " (18, 2272.5797225783936),\n",
              " (2, 2228.329274304245),\n",
              " (13, 2210.2597790439177),\n",
              " (17, 2128.055189836044),\n",
              " (29, 2115.271134558372),\n",
              " (45, 2067.6765959909067),\n",
              " (33, 2044.8916974010226),\n",
              " (47, 1983.979191213845),\n",
              " (48, 1684.014168231085),\n",
              " (43, 1576.7456688016382),\n",
              " (10, 1401.1041734320622),\n",
              " (26, 907.8025856433433),\n",
              " (19, 786.7039330748775)]"
            ]
          },
          "metadata": {},
          "execution_count": 37
        }
      ],
      "source": [
        "# sort the users from highest to lowest spenders\n",
        "total_spent.sortBy(lambda x: x[1],ascending = False).collect()"
      ]
    },
    {
      "cell_type": "markdown",
      "metadata": {
        "id": "TyBZ7O-_Q3RP"
      },
      "source": [
        "Next, let's determine how many items were bought per user. This can be solved in one line using an RDD method. After you've counted the total number of items bought per person, sort the users from most number of items bought to least number of items. Time to start a customer loyalty program!"
      ]
    },
    {
      "cell_type": "code",
      "execution_count": 42,
      "metadata": {
        "colab": {
          "base_uri": "https://localhost:8080/"
        },
        "id": "cDQf2s78Q3RP",
        "outputId": "b71645db-a69a-4113-e1aa-53f6a333de45"
      },
      "outputs": [
        {
          "output_type": "execute_result",
          "data": {
            "text/plain": [
              "[(3, 11),\n",
              " (40, 11),\n",
              " (37, 10),\n",
              " (32, 10),\n",
              " (33, 10),\n",
              " (9, 9),\n",
              " (22, 9),\n",
              " (42, 9),\n",
              " (34, 8),\n",
              " (18, 8),\n",
              " (39, 8),\n",
              " (41, 8),\n",
              " (46, 8),\n",
              " (20, 8),\n",
              " (45, 8),\n",
              " (29, 7),\n",
              " (5, 7),\n",
              " (14, 7),\n",
              " (12, 7),\n",
              " (7, 7),\n",
              " (11, 7),\n",
              " (28, 7),\n",
              " (49, 7),\n",
              " (10, 7),\n",
              " (21, 7),\n",
              " (31, 7),\n",
              " (36, 7),\n",
              " (50, 6),\n",
              " (38, 6),\n",
              " (48, 6),\n",
              " (15, 6),\n",
              " (26, 6),\n",
              " (44, 5),\n",
              " (16, 5),\n",
              " (2, 5),\n",
              " (13, 5),\n",
              " (24, 5),\n",
              " (43, 5),\n",
              " (17, 5),\n",
              " (8, 5),\n",
              " (23, 4),\n",
              " (19, 4),\n",
              " (47, 4),\n",
              " (25, 4),\n",
              " (35, 4),\n",
              " (1, 3),\n",
              " (27, 3),\n",
              " (4, 3),\n",
              " (6, 2),\n",
              " (30, 2)]"
            ]
          },
          "metadata": {},
          "execution_count": 42
        }
      ],
      "source": [
        "total_items = sales_data.countByKey()\n",
        "sorted(total_items.items(),key=lambda kv:kv[1],reverse=True)"
      ]
    },
    {
      "cell_type": "markdown",
      "metadata": {
        "id": "9aMGG32cQ3RP"
      },
      "source": [
        "### Additional Reading\n",
        "\n",
        "- [The original paper on RDDs](https://cs.stanford.edu/~matei/papers/2012/nsdi_spark.pdf)\n",
        "- [RDDs in Apache Spark](https://data-flair.training/blogs/create-rdds-in-apache-spark/)\n",
        "- [Programming with RDDs](https://runawayhorse001.github.io/LearningApacheSpark/rdd.html)\n",
        "- [RDD Transformations and Actions Summary](https://www.analyticsvidhya.com/blog/2016/10/using-pyspark-to-perform-transformations-and-actions-on-rdd/)"
      ]
    },
    {
      "cell_type": "markdown",
      "metadata": {
        "id": "USAizXbdQ3RP"
      },
      "source": [
        "## Summary\n",
        "\n",
        "In this lab we went through a brief introduction to RDD creation from a Python collection, setting a number of logical partitions for an RDD and extracting lineage. We also used transformations and actions to perform calculations across RDDs on a distributed setup. In the next lab, you'll get the chance to apply these transformations on different books to calculate word counts and various statistics.\n"
      ]
    }
  ],
  "metadata": {
    "kernelspec": {
      "display_name": "Python 3",
      "language": "python",
      "name": "python3"
    },
    "language_info": {
      "codemirror_mode": {
        "name": "ipython",
        "version": 3
      },
      "file_extension": ".py",
      "mimetype": "text/x-python",
      "name": "python",
      "nbconvert_exporter": "python",
      "pygments_lexer": "ipython3",
      "version": "3.7.3"
    },
    "colab": {
      "name": "index.ipynb",
      "provenance": [],
      "include_colab_link": true
    }
  },
  "nbformat": 4,
  "nbformat_minor": 0
}